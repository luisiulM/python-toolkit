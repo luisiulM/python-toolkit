{
 "cells": [
  {
   "cell_type": "markdown",
   "metadata": {},
   "source": [
    "# Dynamically Add a Method to a Class in Python"
   ]
  },
  {
   "cell_type": "markdown",
   "metadata": {},
   "source": [
    "### Simple inelegant case "
   ]
  },
  {
   "cell_type": "code",
   "execution_count": null,
   "metadata": {},
   "outputs": [],
   "source": [
    "# Creating a class with literaly no method in it\n",
    "class A:\n",
    "    pass\n",
    "\n",
    "a = A() # asigning class A into variable a\n",
    "def foo(self): # Have to add self since this will become a method\n",
    "    print('hello world!')"
   ]
  },
  {
   "cell_type": "code",
   "execution_count": 2,
   "metadata": {},
   "outputs": [],
   "source": [
    "# The setattr() function sets the value of the specified attribute of the specified object.\n",
    "?setattr"
   ]
  },
  {
   "cell_type": "code",
   "execution_count": 3,
   "metadata": {},
   "outputs": [
    {
     "name": "stdout",
     "output_type": "stream",
     "text": [
      "hello world!\n"
     ]
    }
   ],
   "source": [
    "setattr(A, 'foo', foo)\n",
    "\n",
    "a.foo() # hello world!    "
   ]
  },
  {
   "cell_type": "markdown",
   "metadata": {},
   "source": [
    "### Decorater method "
   ]
  },
  {
   "cell_type": "raw",
   "metadata": {},
   "source": [
    "from functools import wraps # \n",
    "\n",
    "class A:\n",
    "    pass\n",
    "\n",
    "def add_method(cls):\n",
    "    def decorator(func):\n",
    "        @wraps(func) \n",
    "        def wrapper(self, *args, **kwargs): \n",
    "            return func(*args, **kwargs)\n",
    "        setattr(cls, func.__name__, wrapper)\n",
    "        # Note we are not binding func, but wrapper which accepts self but does exactly the same as func\n",
    "        return func # returning func means func can still be used normally\n",
    "    return decorator\n",
    "\n",
    "# No trickery. Class A has no methods nor variables.\n",
    "a = A()\n",
    "try:\n",
    "    a.foo()\n",
    "except AttributeError as ae:\n",
    "    print(f'Exception caught: {ae}') # 'A' object has no attribute 'foo'\n",
    "\n",
    "try:\n",
    "    a.bar('The quick brown fox jumped over the lazy dog.')\n",
    "except AttributeError as ae:\n",
    "    print(f'Exception caught: {ae}') # 'A' object has no attribute 'bar'\n",
    "\n",
    "\n",
    "# Decorator can be written to take normal functions and make them methods\n",
    "@add_method(A)\n",
    "def foo():\n",
    "    print('hello world!')\n",
    "\n",
    "@add_method(A)\n",
    "def bar(s):\n",
    "    print(f'Message: {s}')\n",
    "\n",
    "a.foo()\n",
    "a.bar('The quick brown fox jumped over the lazy dog.')\n",
    "print(a.foo) # <bound method foo of <__main__.A object at {ADDRESS}>>\n",
    "print(a.bar) # <bound method bar of <__main__.A object at {ADDRESS}>>\n",
    "\n",
    "# foo and bar are still usable as functions\n",
    "foo()\n",
    "bar('The quick brown fox jumped over the lazy dog.')\n",
    "print(foo) # <function foo at {ADDRESS}>\n",
    "print(bar) # <function bar at {ADDRESS}>"
   ]
  },
  {
   "cell_type": "markdown",
   "metadata": {},
   "source": [
    "## Question asked during a programming task, by a company"
   ]
  },
  {
   "cell_type": "markdown",
   "metadata": {},
   "source": [
    "To the best of my memory...\n",
    "\n",
    "Create a wrap function to an existing module in python, math. The module in question is \"math\" and the task was to create a method \".log100(x)\", such that math.log100(x) = math.log(x,base)."
   ]
  },
  {
   "cell_type": "raw",
   "metadata": {},
   "source": [
    "## starting point\n",
    "\n",
    "import math\n",
    "\n",
    "def method():\n",
    "    ## magic pyhton\n",
    "    pass\n",
    "\n",
    "method()\n",
    "math.log100(2)"
   ]
  },
  {
   "cell_type": "markdown",
   "metadata": {},
   "source": [
    "#### Simple Answer: "
   ]
  },
  {
   "cell_type": "code",
   "execution_count": 4,
   "metadata": {},
   "outputs": [],
   "source": [
    "import math"
   ]
  },
  {
   "cell_type": "raw",
   "metadata": {},
   "source": [
    "def log100(x = True, base = 100):\n",
    "    if x == True:\n",
    "        return print('You forgot to give a value x: math.log100(x)')\n",
    "    if type(x) != int:\n",
    "        return print('I only except int data types. In this case x is: ', type(x))\n",
    "    \n",
    "    return math.log(x,base)\n",
    "\n",
    "setattr(math, 'log100', log100)\n",
    "\n",
    "math.log100(9)"
   ]
  },
  {
   "cell_type": "markdown",
   "metadata": {},
   "source": [
    "#### Decorator Answer:\n",
    "In short, by using decorator "
   ]
  },
  {
   "cell_type": "code",
   "execution_count": 2,
   "metadata": {},
   "outputs": [],
   "source": [
    "import math\n",
    "from functools import wraps # "
   ]
  },
  {
   "cell_type": "code",
   "execution_count": 4,
   "metadata": {},
   "outputs": [
    {
     "name": "stdout",
     "output_type": "stream",
     "text": [
      "Help on function wraps in module functools:\n",
      "\n",
      "wraps(wrapped, assigned=('__module__', '__name__', '__qualname__', '__doc__', '__annotations__'), updated=('__dict__',))\n",
      "    Decorator factory to apply update_wrapper() to a wrapper function\n",
      "    \n",
      "    Returns a decorator that invokes update_wrapper() with the decorated\n",
      "    function as the wrapper argument and the arguments to wraps() as the\n",
      "    remaining arguments. Default arguments are as for update_wrapper().\n",
      "    This is a convenience function to simplify applying partial() to\n",
      "    update_wrapper().\n",
      "\n"
     ]
    }
   ],
   "source": [
    "help(wraps)"
   ]
  },
  {
   "cell_type": "code",
   "execution_count": null,
   "metadata": {},
   "outputs": [],
   "source": [
    "def add_method_new():\n",
    "    ## magic pyhton\n",
    "    # Defining __call__ method \n",
    "    def __call__(self)\n",
    "        @add_method(math)\n",
    "        # function that we want to add"
   ]
  },
  {
   "cell_type": "code",
   "execution_count": null,
   "metadata": {},
   "outputs": [],
   "source": [
    "# Testing\n",
    "add_method()\n",
    "\n",
    "math.log100(2)"
   ]
  }
 ],
 "metadata": {
  "kernelspec": {
   "display_name": "Python 3",
   "language": "python",
   "name": "python3"
  },
  "language_info": {
   "codemirror_mode": {
    "name": "ipython",
    "version": 3
   },
   "file_extension": ".py",
   "mimetype": "text/x-python",
   "name": "python",
   "nbconvert_exporter": "python",
   "pygments_lexer": "ipython3",
   "version": "3.7.4"
  }
 },
 "nbformat": 4,
 "nbformat_minor": 2
}
